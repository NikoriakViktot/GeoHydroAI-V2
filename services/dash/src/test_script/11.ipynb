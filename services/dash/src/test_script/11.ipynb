{
 "cells": [
  {
   "metadata": {
    "ExecuteTime": {
     "end_time": "2025-09-22T17:00:16.022964Z",
     "start_time": "2025-09-22T17:00:16.019890Z"
    }
   },
   "cell_type": "code",
   "source": "import os, json, logging\n",
   "id": "5bb5055cd373c3f8",
   "outputs": [],
   "execution_count": 1
  },
  {
   "metadata": {
    "ExecuteTime": {
     "end_time": "2025-09-22T17:00:16.349265Z",
     "start_time": "2025-09-22T17:00:16.347323Z"
    }
   },
   "cell_type": "code",
   "source": "TC_BASE = os.getenv(\"TERRACOTTA_PUBLIC_URL\", \"https://www.geohydroai.org/tc\").rstrip(\"/\")\n",
   "id": "e5f832cf6b60d675",
   "outputs": [],
   "execution_count": 2
  },
  {
   "metadata": {
    "ExecuteTime": {
     "end_time": "2025-09-22T17:00:54.172585Z",
     "start_time": "2025-09-22T17:00:54.170766Z"
    }
   },
   "cell_type": "code",
   "source": "ASSETS_INDEX_PATH = \"assets/layers_index.json\"",
   "id": "32a554e628cd2050",
   "outputs": [],
   "execution_count": 3
  },
  {
   "cell_type": "code",
   "id": "initial_id",
   "metadata": {
    "collapsed": true,
    "ExecuteTime": {
     "end_time": "2025-09-22T17:01:01.431761Z",
     "start_time": "2025-09-22T17:01:01.428677Z"
    }
   },
   "source": [
    "def _fix_path(p: str) -> str:\n",
    "    if not p: return p\n",
    "    p = p.replace(\"\\\\\", \"/\")\n",
    "    if p.startswith(\"/\"): return os.path.normpath(p)\n",
    "    if p.startswith(\"data/COG/\"):  return \"/app/data/cogs/\" + p.split(\"data/COG/\")[1]\n",
    "    if p.startswith(\"data/cogs/\"): return \"/app/data/cogs/\" + p.split(\"data/cogs/\")[1]\n",
    "    if p.startswith(\"data/\"):      return \"/app/\" + p\n",
    "    return os.path.normpath(p)\n",
    "\n",
    "def _parse_level(s: str) -> int:\n",
    "    try:\n",
    "        return int(str(s).lower().replace(\"m\", \"\").strip())\n",
    "    except Exception:\n",
    "        return 0\n",
    "\n",
    "def build_dem_url(dem_name: str, cmap: str, stretch) -> str:\n",
    "    s = f\"[{stretch[0]},{stretch[1]}]\"\n",
    "    return f\"{TC_BASE}/singleband/dem/{dem_name}\" + \"/{z}/{x}/{y}.png\" + f\"?colormap={cmap}&stretch_range={s}\"\n",
    "\n",
    "def build_flood_url(dem_name: str, hand_name: str, level: str, cmap: str, stretch, pure_blue: bool) -> str:\n",
    "    layer = f\"{dem_name}_{hand_name}_flood_{level}\"\n",
    "    s = f\"[{stretch[0]},{stretch[1]}]\"\n",
    "    base = f\"{TC_BASE}/singleband/flood_scenarios/{layer}\" + \"/{z}/{x}/{y}.png\"\n",
    "    return f\"{base}?colormap=custom&colors=0000ff&stretch_range={s}\" if pure_blue \\\n",
    "           else f\"{base}?colormap={cmap}&stretch_range={s}\""
   ],
   "outputs": [],
   "execution_count": 4
  },
  {
   "metadata": {},
   "cell_type": "code",
   "outputs": [],
   "execution_count": null,
   "source": "print(build_dem_url('alos', ))",
   "id": "b32e9d4378886898"
  }
 ],
 "metadata": {
  "kernelspec": {
   "display_name": "Python 3",
   "language": "python",
   "name": "python3"
  },
  "language_info": {
   "codemirror_mode": {
    "name": "ipython",
    "version": 2
   },
   "file_extension": ".py",
   "mimetype": "text/x-python",
   "name": "python",
   "nbconvert_exporter": "python",
   "pygments_lexer": "ipython2",
   "version": "2.7.6"
  }
 },
 "nbformat": 4,
 "nbformat_minor": 5
}
